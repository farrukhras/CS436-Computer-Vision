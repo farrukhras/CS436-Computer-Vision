{
  "nbformat": 4,
  "nbformat_minor": 0,
  "metadata": {
    "colab": {
      "name": "21100297_CV_Final_2020.ipynb",
      "provenance": [],
      "collapsed_sections": []
    },
    "kernelspec": {
      "name": "python3",
      "display_name": "Python 3"
    }
  },
  "cells": [
    {
      "cell_type": "code",
      "metadata": {
        "id": "wkkCETj9FF2G",
        "colab_type": "code",
        "colab": {}
      },
      "source": [
        "import cv2\n",
        "import numpy as np"
      ],
      "execution_count": 0,
      "outputs": []
    },
    {
      "cell_type": "code",
      "metadata": {
        "id": "K2_3etc9V5L9",
        "colab_type": "code",
        "outputId": "59a59a29-bbc1-42b0-9133-b5a731d6dad3",
        "colab": {
          "base_uri": "https://localhost:8080/",
          "height": 128
        }
      },
      "source": [
        "# Part 2 of 8 - Affine Transformation\n",
        "# Q3  \n",
        "\n",
        "# Using the pseudo-inverse method from lecture 3-4\n",
        "\n",
        "# Ax = B\n",
        "\n",
        "# given n pairs of src & dst points, we have our A matrix to be a 2nx6 matrix\n",
        "# given n pairs of src & dst points, we have our B matrix to be a 2nx1 matrix\n",
        "# x is a 6x1 matrix which have the affine parameters (a1 - a6)\n",
        "\n",
        "# here we have 7 set of corresponding points so, A is a 14x6 matrix and B is a\n",
        "# 14x1 matrix\n",
        "\n",
        "A = np.array([\n",
        "  [0,11,1,0,0,0],\n",
        "  [0,0,0,0,11,1],\n",
        "\n",
        "  [0,0,1,0,0,0],\n",
        "  [0,0,0,0,0,1],\n",
        "\n",
        "  [6,0,1,0,0,0],\n",
        "  [0,0,0,6,0,1],\n",
        "\n",
        "  [6,11,1,0,0,0],\n",
        "  [0,0,0,6,11,1],\n",
        "\n",
        "  [3,16.5,1,0,0,0],\n",
        "  [0,0,0,3,16.5,1],\n",
        "\n",
        "  [0,11,1,0,0,0],\n",
        "  [0,0,0,0,11,1],\n",
        "\n",
        "  [6,11,1,0,0,0],\n",
        "  [0,0,0,6,11,1],\n",
        "])\n",
        "\n",
        "B = np.array([\n",
        "  [20],\n",
        "  [12],\n",
        "  [2],\n",
        "  [0],\n",
        "  [18],\n",
        "  [4],\n",
        "  [36],\n",
        "  [16],\n",
        "  [37],\n",
        "  [20],\n",
        "  [20],\n",
        "  [12],\n",
        "  [36],\n",
        "  [16]\n",
        "])\n",
        "\n",
        "A_trans_A = A.T @ A # (A^T)A\n",
        "A_trans_A_inv = np.linalg.inv(A_trans_A) # (A^TA)^-1\n",
        "A_trans_B = A.T @ B # (A^T)B\n",
        "\n",
        "x = A_trans_A_inv @ A_trans_B # (A^TA)^-1 @ (A^T)B\n",
        "\n",
        "# x = np.array([\n",
        "#   [a1],\n",
        "#   [a2],\n",
        "#   [a3],\n",
        "#   [a4],\n",
        "#   [a5],\n",
        "#   [a6]\n",
        "# ])\n",
        "\n",
        "print(x)"
      ],
      "execution_count": 37,
      "outputs": [
        {
          "output_type": "stream",
          "text": [
            "[[ 2.66666667e+00]\n",
            " [ 1.63636364e+00]\n",
            " [ 2.00000000e+00]\n",
            " [ 6.66666667e-01]\n",
            " [ 1.09090909e+00]\n",
            " [-3.55271368e-15]]\n"
          ],
          "name": "stdout"
        }
      ]
    },
    {
      "cell_type": "code",
      "metadata": {
        "id": "Il3XGBeN2bJ3",
        "colab_type": "code",
        "colab": {
          "base_uri": "https://localhost:8080/",
          "height": 54
        },
        "outputId": "8d22479f-113f-47e5-fc53-da7daedba6d9"
      },
      "source": [
        "# Part 3 of 8 - Axis of Rotation\n",
        "# Q4\n",
        "\n",
        "import numpy as np\n",
        "import math\n",
        "\n",
        "# crop the last column and the last row as they only have the translations\n",
        "# we get a 3x3 matrix that has only the rotations in it.\n",
        "# we take the svd of this Tr.\n",
        "# we then no np.diag() on the d we recieved from the svd. The scale is around 1\n",
        "# our final rotation matrix (3x3 because we took a 3x3 Tr) is the product of u and vh becasue they the 1st and 3rd rotations.\n",
        "# we have to find the axis of rotation and angle of this final rotation\n",
        "# \n",
        "\n",
        "tr = np.array([\n",
        "  [0.9139, 0.0516, 0.4026],\n",
        "  [0.0516, 0.9690, -0.2415],\n",
        "  [-0.4026, 0.2415, 0.8829]\n",
        "])\n",
        "\n",
        "u,d,vh = np.linalg.svd(tr)\n",
        "\n",
        "scale = np.diag(d)\n",
        "# print('Scale : ', scale)\n",
        "\n",
        "final_rotation_matrix = u @ vh\n",
        "\n",
        "w, v = np.linalg.eig(final_rotation_matrix)\n",
        "axis_rotation = v[:, 2]\n",
        "print(\"Axis n: \", axis_rotation)\n",
        "\n",
        "# trace of the rotation matrix = the sum of the diagonal elements of the rotation matrix\n",
        "trace_rot_matrix = np.trace(final_rotation_matrix) # trace of the rotation matrix\n",
        "\n",
        "cos_theeta = (trace_rot_matrix - 1) / 2\n",
        "angle_theeta = math.acos(cos_theeta)\n",
        "print('Angle Theta : ', angle_theeta) "
      ],
      "execution_count": 38,
      "outputs": [
        {
          "output_type": "stream",
          "text": [
            "Axis n:  [ 5.14395927e-01+0.j  8.57552815e-01+0.j -2.34119019e-16+0.j]\n",
            "Angle Theta :  0.4887065537227106\n"
          ],
          "name": "stdout"
        }
      ]
    },
    {
      "cell_type": "code",
      "metadata": {
        "id": "Kyk4VWWgH1Pv",
        "colab_type": "code",
        "colab": {
          "base_uri": "https://localhost:8080/",
          "height": 479
        },
        "outputId": "82648d3c-7c1b-47ed-f3fb-4da14df2e272"
      },
      "source": [
        "# Part 4 of 8 - Camera Model 1\n",
        "# Q5\n",
        "\n",
        "# y = -(fY/Z)\n",
        "\n",
        "# f = 5,7,12,16,,24 (mm)\n",
        "# Y = 1m = 1000mm\n",
        "# Z = 93m = 93000mm\n",
        "\n",
        "# sensors \n",
        "# 5.8x4.3mm -> 640x480 pixels \n",
        "# 7.2mmx5.3mm -> 1280x720 pixels or 1280x720 pixels \n",
        "\n",
        "# target must have at least 10x10 px dimension in image \n",
        "\n",
        "# we need to find a y such that when multipled with the pixels produced by a \n",
        "# particular lens, we get atleast 10ox which is the minimum that the target\n",
        "# must have in the image\n",
        "\n",
        "# we can check for all the focal lengths and the availible lens and choose the \n",
        "# one that gives the answer as 10px\n",
        "\n",
        "# all in mm\n",
        "Y = 1 * 1000\n",
        "Z = 93 * 1000\n",
        "\n",
        "focal_lengths = [5,7,12,16,24]\n",
        "\n",
        "for x in focal_lengths:\n",
        "  f = x\n",
        "  y = -((f*Y)/Z)\n",
        "\n",
        "  print(\"Focal Length: \", f, \"mm\")\n",
        "  # sensor chosen: 5.8x4.3mm gives 640x480 pixels\n",
        "  with_sen11 = y * (640/5.8) # 5.8_640\n",
        "  with_sen12 = y * (480/4.3) # 4.3_480\n",
        "\n",
        "  print(\"Sensor used 5.3x4.3mm gives 640x480 pixels: \", with_sen11, with_sen12)\n",
        "\n",
        "  # sensor chosen: 7.2x5.3mm gives 1280x720 pixels\n",
        "  with_sen21 = y * (1280/7.2) # 7.2_1280\n",
        "  with_sen22 = y * (720/5.3) # 5.3_720\n",
        "\n",
        "  print(\"Sensor used 7.2x5.3mm gives 1280x720 pixels: \", with_sen21, with_sen22)\n",
        "\n",
        "  # sensor chosen: 7.2x5.3mm gives 1920x1080 pixels\n",
        "  with_sen23 = y * (1920/7.2) # 7.2_1920\n",
        "  with_sen24 = y * (1080/5.3) # 5.3_1080\n",
        "\n",
        "  print(\"Sensor used 7.2x5.3mm gives 1920x1080 pixels: \", with_sen23, with_sen24)\n",
        "  print(\"\")\n",
        "\n",
        "# from the results we can see that if we can see that shortest focal length of\n",
        "# of a camera can be 5mm such that the image recognition can work because\n",
        "# the target has at least 10x10px dimension in image.  \n",
        "\n",
        "\n",
        "# Q6\n",
        "# From the above answer we can see that the focal length of the camera, assuming \n",
        "# that the processor on board the drone can only process image of resolution \n",
        "# 640x480 in real-time, is 12mm as image recognition can work because\n",
        "# the target has at least 10x10px dimension in image. This is because the answer\n",
        "# is more that 10x10px."
      ],
      "execution_count": 39,
      "outputs": [
        {
          "output_type": "stream",
          "text": [
            "Focal Length:  5 mm\n",
            "Sensor used 5.3x4.3mm gives 640x480 pixels:  -5.932517612161662 -6.001500375093774\n",
            "Sensor used 7.2x5.3mm gives 1280x720 pixels:  -9.557945041816009 -7.303712720632989\n",
            "Sensor used 7.2x5.3mm gives 1920x1080 pixels:  -14.336917562724016 -10.955569080949484\n",
            "\n",
            "Focal Length:  7 mm\n",
            "Sensor used 5.3x4.3mm gives 640x480 pixels:  -8.305524657026327 -8.402100525131283\n",
            "Sensor used 7.2x5.3mm gives 1280x720 pixels:  -13.381123058542414 -10.225197808886184\n",
            "Sensor used 7.2x5.3mm gives 1920x1080 pixels:  -20.07168458781362 -15.337796713329277\n",
            "\n",
            "Focal Length:  12 mm\n",
            "Sensor used 5.3x4.3mm gives 640x480 pixels:  -14.238042269187988 -14.403600900225056\n",
            "Sensor used 7.2x5.3mm gives 1280x720 pixels:  -22.939068100358423 -17.528910529519173\n",
            "Sensor used 7.2x5.3mm gives 1920x1080 pixels:  -34.40860215053764 -26.29336579427876\n",
            "\n",
            "Focal Length:  16 mm\n",
            "Sensor used 5.3x4.3mm gives 640x480 pixels:  -18.984056358917318 -19.204801200300075\n",
            "Sensor used 7.2x5.3mm gives 1280x720 pixels:  -30.58542413381123 -23.371880706025564\n",
            "Sensor used 7.2x5.3mm gives 1920x1080 pixels:  -45.87813620071685 -35.057821059038346\n",
            "\n",
            "Focal Length:  24 mm\n",
            "Sensor used 5.3x4.3mm gives 640x480 pixels:  -28.476084538375975 -28.807201800450112\n",
            "Sensor used 7.2x5.3mm gives 1280x720 pixels:  -45.878136200716845 -35.057821059038346\n",
            "Sensor used 7.2x5.3mm gives 1920x1080 pixels:  -68.81720430107528 -52.58673158855752\n",
            "\n"
          ],
          "name": "stdout"
        }
      ]
    },
    {
      "cell_type": "code",
      "metadata": {
        "id": "ZQfv1CPoqBjx",
        "colab_type": "code",
        "outputId": "0f323cff-5a3a-4870-8095-74f7a8dce0ef",
        "colab": {
          "base_uri": "https://localhost:8080/",
          "height": 35
        }
      },
      "source": [
        "# Part 5 of 8 - Camera Model 2\n",
        "# Q7 \n",
        "\n",
        "P = np.array([ # perspective camera matrix\n",
        "  [24, 40, 35, -2],\n",
        "  [9, 34, 46, 31],\n",
        "  [25, 49, 32, 29]\n",
        "])\n",
        "\n",
        "X = np.array([ # 3D point in homogeneous coordinates\n",
        "  [2, 6, 5, 2]\n",
        "])\n",
        "\n",
        "X = X.T # take the transpose of X to match the matrix size when matrix multiplication\n",
        "\n",
        "hx, hy, h = P @ X\n",
        "\n",
        "u = hx/h\n",
        "v = hy/h\n",
        "\n",
        "print(u, v)"
      ],
      "execution_count": 40,
      "outputs": [
        {
          "output_type": "stream",
          "text": [
            "[0.81672598] [0.91459075]\n"
          ],
          "name": "stdout"
        }
      ]
    },
    {
      "cell_type": "code",
      "metadata": {
        "id": "WRmjdLvjFeCb",
        "colab_type": "code",
        "outputId": "49175c1d-80ae-48fa-b159-16c06b34b4ff",
        "colab": {
          "base_uri": "https://localhost:8080/",
          "height": 91
        }
      },
      "source": [
        "# Part 6 of 8 - Epipolar Constraint\n",
        "# Q8\n",
        "\n",
        "# E = RS\n",
        "\n",
        "T = [-0.3, 0.1, -9] # translation matrix\n",
        "Tx = T[0]\n",
        "Ty = T[1]\n",
        "Tz = T[2]\n",
        "\n",
        "S = np.array([ # the S matrix\n",
        "  [0, -Tz, Ty],\n",
        "  [Tz, 0, -Tx],\n",
        "  [Tx, -Ty, 0]\n",
        "])\n",
        "\n",
        "R = np.array([ # rotation matrix along the z-axis with a rotation of 90 degree\n",
        "  [0, 1, 0],\n",
        "  [-1, 0, 0],\n",
        "  [0, 0, 1]\n",
        "])\n",
        "\n",
        "E = R @ S\n",
        "print(\"Essential Matrix = \")\n",
        "print(E)"
      ],
      "execution_count": 41,
      "outputs": [
        {
          "output_type": "stream",
          "text": [
            "Essential Matrix = \n",
            "[[-9.   0.   0.3]\n",
            " [ 0.  -9.  -0.1]\n",
            " [-0.3 -0.1  0. ]]\n"
          ],
          "name": "stdout"
        }
      ]
    },
    {
      "cell_type": "code",
      "metadata": {
        "id": "iHbCpj3KH1E2",
        "colab_type": "code",
        "outputId": "9f2acad9-3c6d-42fa-dda2-64c0f962f6aa",
        "colab": {
          "base_uri": "https://localhost:8080/",
          "height": 91
        }
      },
      "source": [
        "# Q9\n",
        "# F = K_inv_transpose x E x K_inv\n",
        "\n",
        "K = np.array([ # intrinsic parameters matrix\n",
        "  [8400, 0, 310],\n",
        "  [0, 8300, 250],\n",
        "  [0, 0, 1]\n",
        "])\n",
        "\n",
        "F = np.linalg.inv(K).T @ E @ np.linalg.inv(K) # the fundamental matrix\n",
        "\n",
        "pl_bar = np.array([[25, 76, 1]])\n",
        "\n",
        "pl_bar = pl_bar.T\n",
        "\n",
        "coeff_epipole_line = F @ pl_bar\n",
        "\n",
        "print(\"Coefficients of the epipolar line: \")\n",
        "print(\"a: \", coeff_epipole_line[0])\n",
        "print(\"b: \", coeff_epipole_line[1])\n",
        "print(\"c: \", coeff_epipole_line[2])"
      ],
      "execution_count": 42,
      "outputs": [
        {
          "output_type": "stream",
          "text": [
            "Coefficients of the epipolar line: \n",
            "a:  [7.20663265e-05]\n",
            "b:  [1.06836987e-05]\n",
            "c:  [-0.01273653]\n"
          ],
          "name": "stdout"
        }
      ]
    },
    {
      "cell_type": "code",
      "metadata": {
        "id": "y5vF6KDnJP17",
        "colab_type": "code",
        "outputId": "6d8c2272-9cca-4966-84bb-924e09665ddd",
        "colab": {
          "base_uri": "https://localhost:8080/",
          "height": 35
        }
      },
      "source": [
        "# Q10\n",
        "# find the left epipole\n",
        "\n",
        "Fu, Fd, Fv = np.linalg.svd(F)\n",
        "Fv = Fv.T\n",
        "left_epipole = Fv[:, 2]\n",
        "left_epipole = left_epipole / left_epipole[2]\n",
        "\n",
        "print(\"left-epipole: \", left_epipole)"
      ],
      "execution_count": 43,
      "outputs": [
        {
          "output_type": "stream",
          "text": [
            "left-epipole:  [822.50457354 545.84074853   1.        ]\n"
          ],
          "name": "stdout"
        }
      ]
    },
    {
      "cell_type": "code",
      "metadata": {
        "id": "LYUxhyQfRLsP",
        "colab_type": "code",
        "outputId": "aa072518-fee4-42f5-cfc7-1980ca72aa18",
        "colab": {
          "base_uri": "https://localhost:8080/",
          "height": 35
        }
      },
      "source": [
        "# Q11\n",
        "# slope of epipolar line in left image\n",
        "\n",
        "xel_bar = left_epipole[0]\n",
        "yel_bar = left_epipole[1]\n",
        "\n",
        "x_left = 25\n",
        "y_left = 76\n",
        "m = (yel_bar - y_left)/(xel_bar - x_left)\n",
        "print(\"Slope of the epipolar line in the left image: \", m)"
      ],
      "execution_count": 44,
      "outputs": [
        {
          "output_type": "stream",
          "text": [
            "Slope of the epipolar line in the left image:  0.5891386258002855\n"
          ],
          "name": "stdout"
        }
      ]
    },
    {
      "cell_type": "code",
      "metadata": {
        "id": "fwjsuSidYCsV",
        "colab_type": "code",
        "outputId": "0ef2415f-e235-4e79-a5db-341af784659c",
        "colab": {
          "base_uri": "https://localhost:8080/",
          "height": 35
        }
      },
      "source": [
        "# Q12\n",
        "# y-intercept of epipolar line in left image\n",
        "\n",
        "c = y_left - m*x_left\n",
        "print(\"y-intercept: \", c)"
      ],
      "execution_count": 45,
      "outputs": [
        {
          "output_type": "stream",
          "text": [
            "y-intercept:  61.271534354992866\n"
          ],
          "name": "stdout"
        }
      ]
    },
    {
      "cell_type": "code",
      "metadata": {
        "id": "FF2DV3_Kk9Fx",
        "colab_type": "code",
        "outputId": "0cc01731-a5ce-4c34-ff0d-d31b8ae1b10c",
        "colab": {
          "base_uri": "https://localhost:8080/",
          "height": 35
        }
      },
      "source": [
        "# Q13\n",
        "# right epipole\n",
        "\n",
        "F_trans = F.T\n",
        "\n",
        "FUp, FDp, FVp = np.linalg.svd(F_trans)\n",
        "FVp = FVp.T\n",
        "\n",
        "right_epipole = FVp[:, 2]\n",
        "right_epipole = right_epipole / right_epipole[2]\n",
        "\n",
        "print(\"right-epipole: \", right_epipole)"
      ],
      "execution_count": 46,
      "outputs": [
        {
          "output_type": "stream",
          "text": [
            "right-epipole:  [130.31397601 222.77378664   1.        ]\n"
          ],
          "name": "stdout"
        }
      ]
    },
    {
      "cell_type": "code",
      "metadata": {
        "id": "9hGhyprvdqfq",
        "colab_type": "code",
        "outputId": "a3c07aea-21b4-42a6-dd05-af9283285576",
        "colab": {
          "base_uri": "https://localhost:8080/",
          "height": 54
        }
      },
      "source": [
        "# Part 8 of 8 - 3D Convolution\n",
        "# Q15\n",
        "I = np.array(\n",
        "    [\n",
        "        [[0, 2, 3], [2, 2, 1], [3, 3, 3]],\n",
        "        [[1, 1, 0], [0, 1, 1], [0, 0, 3]],\n",
        "        [[2, 3, 1], [2, 3, 3], [1, 3, 1]]\n",
        "    ]\n",
        ")\n",
        "\n",
        "F = np.array(\n",
        "    [\n",
        "        [[0, 1], [0, -1]],\n",
        "        [[0, 0], [0, -1]],\n",
        "        [[-1, -1], [-1, -1]]\n",
        "    ]\n",
        ")\n",
        "\n",
        "output = np.array([[np.sum(I[:,0:2,0:2] * F), np.sum(I[:,0:2,1:3] * F)], # 2 x 2 x 1\n",
        "                   [np.sum(I[:,1:3,0:2] * F), np.sum(I[:,1:3,1:3] * F)]])\n",
        "print(output)"
      ],
      "execution_count": 47,
      "outputs": [
        {
          "output_type": "stream",
          "text": [
            "[[-11  -9]\n",
            " [-10 -15]]\n"
          ],
          "name": "stdout"
        }
      ]
    },
    {
      "cell_type": "code",
      "metadata": {
        "id": "Bz771cfuv3t7",
        "colab_type": "code",
        "colab": {}
      },
      "source": [
        "  "
      ],
      "execution_count": 0,
      "outputs": []
    }
  ]
}